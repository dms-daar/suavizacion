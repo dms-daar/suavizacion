{
 "cells": [
  {
   "cell_type": "code",
   "execution_count": null,
   "id": "cf507606",
   "metadata": {},
   "outputs": [],
   "source": [
    "from rmprocs.dm import * \n",
    "from rmprocs.suavizamiento import * \n",
    "\n",
    "import pandas as pd \n",
    "import numpy as np \n",
    "\n",
    "from matplotlib import pyplot as plt \n",
    "import seaborn as sns"
   ]
  },
  {
   "cell_type": "code",
   "execution_count": null,
   "id": "e8a106d6",
   "metadata": {},
   "outputs": [],
   "source": [
    "oDmApp, PROJECT_FOLDER = get_oDmApp()\n",
    "\n",
    "def log(x): \n",
    "    x = x + \"\\n\"\n",
    "    oDmApp.ControlBars.Output.Write(x)"
   ]
  },
  {
   "cell_type": "code",
   "execution_count": null,
   "id": "b44dd6fb",
   "metadata": {},
   "outputs": [],
   "source": [
    "table = \"mb_final_smooth_r3a\""
   ]
  },
  {
   "cell_type": "code",
   "execution_count": null,
   "id": "8b782ec8",
   "metadata": {},
   "outputs": [],
   "source": [
    "bm = get_dm_table(table, oDmApp)\n",
    "bm[\"VOL\"] = bm[\"XINC\"] * bm[\"YINC\"] * bm[\"ZINC\"] "
   ]
  },
  {
   "cell_type": "code",
   "execution_count": null,
   "id": "6f712eb0",
   "metadata": {},
   "outputs": [],
   "source": [
    "def summarize_bands(df: pd.DataFrame, dist: float, level_thickness: float) -> pd.DataFrame:\n",
    "    \"\"\"\n",
    "    Summarize KDTree batching bands by Z levels.\n",
    "\n",
    "    Parameters\n",
    "    ----------\n",
    "    df : DataFrame\n",
    "        Must contain columns [\"XC\", \"YC\", \"ZC\"].\n",
    "    dist : float\n",
    "        Neighborhood radius used for smoothing. Also used as overlap.\n",
    "    level_thickness : float\n",
    "        Core band thickness along Z.\n",
    "\n",
    "    Returns\n",
    "    -------\n",
    "    summary : DataFrame\n",
    "        One row per core band with:\n",
    "        - band_id: sequential band index starting at 1\n",
    "        - core_lo, core_hi: Z bounds of the core band [lo, hi)\n",
    "        - z_center: midpoint of the core band ( (lo+hi)/2 )\n",
    "        - cx, cy, cz: centroid (mean) of core-band cells (NaN if core empty)\n",
    "        - n_indexed: number of cells in expanded band (core ± dist)\n",
    "        - n_smoothed: number of cells in core band\n",
    "    \"\"\"\n",
    "    if level_thickness <= 0:\n",
    "        raise ValueError(\"level_thickness must be > 0\")\n",
    "    if \"XC\" not in df or \"YC\" not in df or \"ZC\" not in df:\n",
    "        raise KeyError('df must contain columns \"XC\", \"YC\", and \"ZC\"')\n",
    "\n",
    "    # Use float32 views for masks and any potential heavy ops\n",
    "    z = df[\"ZC\"].to_numpy(dtype=np.float32, copy=False)\n",
    "    x = df[\"XC\"].to_numpy(dtype=np.float32, copy=False)\n",
    "    y = df[\"YC\"].to_numpy(dtype=np.float32, copy=False)\n",
    "\n",
    "    zmin = float(np.nanmin(z))\n",
    "    zmax = float(np.nanmax(z))\n",
    "    overlap = float(dist)\n",
    "\n",
    "    # Build the same non-overlapping core windows you use in smoothing\n",
    "    level_edges = []\n",
    "    z_start = zmin\n",
    "    while z_start <= zmax:\n",
    "        z_end = z_start + level_thickness\n",
    "        level_edges.append((z_start, z_end))\n",
    "        z_start = z_end\n",
    "\n",
    "    rows = []\n",
    "    for li, (core_lo, core_hi) in enumerate(level_edges, 1):\n",
    "        exp_lo = core_lo - overlap\n",
    "        exp_hi = core_hi + overlap\n",
    "\n",
    "        core_mask = (z >= core_lo) & (z < core_hi)\n",
    "        exp_mask  = (z >= exp_lo)  & (z < exp_hi)\n",
    "\n",
    "        n_smoothed = int(np.count_nonzero(core_mask))\n",
    "        n_indexed  = int(np.count_nonzero(exp_mask))\n",
    "\n",
    "        if n_smoothed > 0:\n",
    "            # Centroid over core cells\n",
    "            cx = float(np.nanmean(x[core_mask]))\n",
    "            cy = float(np.nanmean(y[core_mask]))\n",
    "            cz = float(np.nanmean(z[core_mask]))\n",
    "        else:\n",
    "            cx = cy = cz = np.nan\n",
    "\n",
    "        rows.append({\n",
    "            \"band_id\":   li,\n",
    "            \"core_lo\":   float(core_lo),\n",
    "            \"core_hi\":   float(core_hi),\n",
    "            \"z_center\":  float((core_lo + core_hi) * 0.5),\n",
    "            \"cx\":        cx,\n",
    "            \"cy\":        cy,\n",
    "            \"cz\":        cz,\n",
    "            \"n_indexed\": n_indexed,\n",
    "            \"n_smoothed\": n_smoothed,\n",
    "        })\n",
    "\n",
    "    return pd.DataFrame(rows)"
   ]
  },
  {
   "cell_type": "code",
   "execution_count": null,
   "id": "98e303f5",
   "metadata": {},
   "outputs": [],
   "source": [
    "# lt = 5\n",
    "# res = summarize_bands(bm, dist=10, level_thickness=lt)"
   ]
  },
  {
   "cell_type": "code",
   "execution_count": null,
   "id": "72f99084",
   "metadata": {},
   "outputs": [],
   "source": [
    "# fig, axs = plt.subplots(1, 2, figsize=(10, 4))\n",
    "# sns.histplot(bm, x=\"ZC\", binwidth=lt, ax=axs[0])\n",
    "# sns.lineplot(res, x=\"z_center\", y=\"n_indexed\", ax=axs[0])\n",
    "# sns.lineplot(res, x=\"z_center\", y=\"n_smoothed\", ax=axs[0])"
   ]
  },
  {
   "cell_type": "code",
   "execution_count": null,
   "id": "c515e640",
   "metadata": {},
   "outputs": [],
   "source": []
  },
  {
   "cell_type": "code",
   "execution_count": null,
   "id": "581e5e93",
   "metadata": {},
   "outputs": [],
   "source": [
    "# Suppose you have summarize_bands_xyz (or swap in summarize_bands_xyz_lean)\n",
    "\n",
    "\n",
    "size\n",
    "\n",
    "print(\"Chosen cubic tile size:\", size)\n",
    "print(\"Diagnostics:\", stats)\n",
    "\n",
    "# Then call your stable smoother with x_size=y_size=z_size=size\n",
    "# suavizar_batched_xyz_multi_stable(bm_df, col, dists, out_cols, size, size, size, ...)\n"
   ]
  },
  {
   "cell_type": "code",
   "execution_count": null,
   "id": "93f0c79d",
   "metadata": {},
   "outputs": [],
   "source": []
  },
  {
   "cell_type": "code",
   "execution_count": null,
   "id": "fe0ad5b8",
   "metadata": {},
   "outputs": [],
   "source": [
    "col = \"CATE\"\n",
    "dists = [10, 20]\n",
    "\n",
    "out_col = f\"{col}_SUAV\"\n",
    "out_cols = [f\"{out_col}_{d}\" for d in dists]\n",
    "\n",
    "suavizar_batched_xyz_multi_stable(\n",
    "    bm, col, dists, out_cols, \n",
    "    x_size=50, y_size=50, z_size=50, \n",
    ")"
   ]
  },
  {
   "cell_type": "code",
   "execution_count": null,
   "id": "703568e4",
   "metadata": {},
   "outputs": [],
   "source": [
    "report = report_volume_variation(bm, \"VOL\", col, \"S10\")\n",
    "report"
   ]
  },
  {
   "cell_type": "code",
   "execution_count": null,
   "id": "1aa38bf6",
   "metadata": {},
   "outputs": [],
   "source": []
  },
  {
   "cell_type": "code",
   "execution_count": null,
   "id": "395c2b7d",
   "metadata": {},
   "outputs": [],
   "source": []
  }
 ],
 "metadata": {
  "kernelspec": {
   "display_name": "pyrmenv",
   "language": "python",
   "name": "python3"
  },
  "language_info": {
   "codemirror_mode": {
    "name": "ipython",
    "version": 3
   },
   "file_extension": ".py",
   "mimetype": "text/x-python",
   "name": "python",
   "nbconvert_exporter": "python",
   "pygments_lexer": "ipython3",
   "version": "3.11.3"
  }
 },
 "nbformat": 4,
 "nbformat_minor": 5
}
